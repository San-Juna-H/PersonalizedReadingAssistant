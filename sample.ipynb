{
 "cells": [
  {
   "cell_type": "code",
   "execution_count": null,
   "metadata": {},
   "outputs": [
    {
     "name": "stdout",
     "output_type": "stream",
     "text": [
      "An electron gun (also called electron emitter) is an electrical component in some vacuum tubes that produces a narrow, collimated electron beam that has a precise kinetic energy.\n"
     ]
    }
   ],
   "source": [
    "import pandas as pd\n",
    "\n",
    "# TSV 파일 경로\n",
    "file_path = 'wikidomains_test.tsv'\n",
    "\n",
    "# TSV 파일 읽기\n",
    "data = pd.read_csv(file_path, sep='\\t')\n",
    "\n",
    "# 데이터 확인\n",
    "print(data.iloc[0][\"definition\"])\n",
    "print(data.iloc[0][\"difficult_term\"])"
   ]
  },
  {
   "cell_type": "code",
   "execution_count": null,
   "metadata": {},
   "outputs": [],
   "source": []
  }
 ],
 "metadata": {
  "kernelspec": {
   "display_name": "playground",
   "language": "python",
   "name": "python3"
  },
  "language_info": {
   "codemirror_mode": {
    "name": "ipython",
    "version": 3
   },
   "file_extension": ".py",
   "mimetype": "text/x-python",
   "name": "python",
   "nbconvert_exporter": "python",
   "pygments_lexer": "ipython3",
   "version": "3.13.0"
  }
 },
 "nbformat": 4,
 "nbformat_minor": 2
}
