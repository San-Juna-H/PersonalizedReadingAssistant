{
 "cells": [
  {
   "cell_type": "code",
   "execution_count": 86,
   "metadata": {},
   "outputs": [
    {
     "name": "stdout",
     "output_type": "stream",
     "text": [
      "In mathematics, and more specifically in graph theory, a tree is an undirected graph in which any two vertices are connected by exactly one path.\n",
      "mathematics\n"
     ]
    }
   ],
   "source": [
    "import pandas as pd\n",
    "import random\n",
    "\n",
    "# TSV 파일 경로\n",
    "file_path = 'wikidomains_test.tsv'\n",
    "\n",
    "# TSV 파일 읽기\n",
    "data = pd.read_csv(file_path, sep='\\t')\n",
    "\n",
    "random_number = random.randint(1, 1000)\n",
    "\n",
    "# 데이터 확인\n",
    "print(data.iloc[random_number][\"definition\"])\n",
    "print(data.iloc[random_number][\"difficult_concept\"])"
   ]
  },
  {
   "cell_type": "code",
   "execution_count": null,
   "metadata": {},
   "outputs": [],
   "source": []
  },
  {
   "cell_type": "code",
   "execution_count": null,
   "metadata": {},
   "outputs": [],
   "source": []
  }
 ],
 "metadata": {
  "kernelspec": {
   "display_name": "playground",
   "language": "python",
   "name": "python3"
  },
  "language_info": {
   "codemirror_mode": {
    "name": "ipython",
    "version": 3
   },
   "file_extension": ".py",
   "mimetype": "text/x-python",
   "name": "python",
   "nbconvert_exporter": "python",
   "pygments_lexer": "ipython3",
   "version": "3.13.0"
  }
 },
 "nbformat": 4,
 "nbformat_minor": 2
}
